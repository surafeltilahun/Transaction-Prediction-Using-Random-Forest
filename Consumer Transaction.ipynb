{
 "cells": [
  {
   "cell_type": "markdown",
   "metadata": {},
   "source": [
    "# Introduction\n",
    "In order to remain competitive and at the top of the industry, companies must know their customers. Every industry can benefit from a deep understanding of consumer transaction rates. In other words, knowing your customers well will allow you to target the right consumers during marketing campaigns, for example.\n",
    "\n",
    "Machine learning is crucial to determining the root cause of the problem and understanding the consumers' transaction patterns. Machine learning is the process of identifying patterns in data, learning from past experience, and predicting data that has never been seen before. Machine learning techniques such as classification and clustering (segmentation) are commonly applied in these scenarios. While classification machine learning is applied to datasets with known outcomes (for example, the 'transaction' column in our dataset), clustering machine learning is applied to datasets without known outcomes; the method finds patterns in the dataset and groups objects together according to their natural similarity. \n",
    "\n",
    "# Dataset\n",
    "This report uses transactional data. Using machine learning to analyze transactional data poses many challenges. One of the biggest hurdles is data imbalance. A data imbalance occurs when one group of class has a significantly higher number of samples than rest. Unbalanced data disrupts the quality of prediction and must be corrected before any machine learning model is fitted. "
   ]
  },
  {
   "cell_type": "code",
   "execution_count": 444,
   "metadata": {},
   "outputs": [],
   "source": [
    "#install all packages\n",
    "import pandas as pd\n",
    "import numpy as np\n",
    "import seaborn as sns\n",
    "import matplotlib.pyplot as plt\n",
    "from sklearn.model_selection import train_test_split\n",
    "from sklearn.linear_model import LogisticRegression\n",
    "from sklearn.metrics import confusion_matrix, classification_report\n",
    "import imblearn\n",
    "from imblearn.over_sampling import RandomOverSampler\n",
    "from imblearn.under_sampling import RandomUnderSampler\n",
    "import collections\n",
    "from sklearn import preprocessing\n",
    "from sklearn.preprocessing import MinMaxScaler\n",
    "from sklearn.ensemble import RandomForestClassifier\n",
    "from sklearn.model_selection import GridSearchCV\n",
    "from sklearn.ensemble import RandomForestClassifier\n",
    "import warnings\n",
    "from sklearn.metrics import accuracy_score\n",
    "from sklearn.metrics import roc_auc_score\n",
    "from sklearn.metrics import f1_score\n",
    "from sklearn.model_selection import cross_val_score\n",
    "from sklearn.model_selection import RepeatedStratifiedKFold\n",
    "from numpy import mean\n",
    "from numpy import std\n",
    "from numpy import arange\n",
    "\n",
    "\n",
    "\n",
    "warnings.filterwarnings(\"ignore\")"
   ]
  },
  {
   "cell_type": "code",
   "execution_count": 445,
   "metadata": {},
   "outputs": [
    {
     "data": {
      "text/html": [
       "<div>\n",
       "<style scoped>\n",
       "    .dataframe tbody tr th:only-of-type {\n",
       "        vertical-align: middle;\n",
       "    }\n",
       "\n",
       "    .dataframe tbody tr th {\n",
       "        vertical-align: top;\n",
       "    }\n",
       "\n",
       "    .dataframe thead th {\n",
       "        text-align: right;\n",
       "    }\n",
       "</style>\n",
       "<table border=\"1\" class=\"dataframe\">\n",
       "  <thead>\n",
       "    <tr style=\"text-align: right;\">\n",
       "      <th></th>\n",
       "      <th>date</th>\n",
       "      <th>consumer_id</th>\n",
       "      <th>transaction</th>\n",
       "      <th>feature1</th>\n",
       "      <th>feature2</th>\n",
       "      <th>feature3</th>\n",
       "      <th>feature4</th>\n",
       "      <th>feature5</th>\n",
       "      <th>feature6</th>\n",
       "      <th>feature7</th>\n",
       "      <th>feature8</th>\n",
       "      <th>feature9</th>\n",
       "    </tr>\n",
       "  </thead>\n",
       "  <tbody>\n",
       "    <tr>\n",
       "      <th>0</th>\n",
       "      <td>01/01/15</td>\n",
       "      <td>S1F01085</td>\n",
       "      <td>0</td>\n",
       "      <td>0</td>\n",
       "      <td>7</td>\n",
       "      <td>407438</td>\n",
       "      <td>215630672</td>\n",
       "      <td>6</td>\n",
       "      <td>0</td>\n",
       "      <td>52</td>\n",
       "      <td>56</td>\n",
       "      <td>0</td>\n",
       "    </tr>\n",
       "    <tr>\n",
       "      <th>1</th>\n",
       "      <td>01/01/15</td>\n",
       "      <td>S1F0166B</td>\n",
       "      <td>0</td>\n",
       "      <td>3</td>\n",
       "      <td>0</td>\n",
       "      <td>403174</td>\n",
       "      <td>61370680</td>\n",
       "      <td>6</td>\n",
       "      <td>0</td>\n",
       "      <td>0</td>\n",
       "      <td>0</td>\n",
       "      <td>0</td>\n",
       "    </tr>\n",
       "    <tr>\n",
       "      <th>2</th>\n",
       "      <td>01/01/15</td>\n",
       "      <td>S1F01E6Y</td>\n",
       "      <td>0</td>\n",
       "      <td>0</td>\n",
       "      <td>0</td>\n",
       "      <td>237394</td>\n",
       "      <td>173295968</td>\n",
       "      <td>12</td>\n",
       "      <td>0</td>\n",
       "      <td>0</td>\n",
       "      <td>0</td>\n",
       "      <td>0</td>\n",
       "    </tr>\n",
       "    <tr>\n",
       "      <th>3</th>\n",
       "      <td>01/01/15</td>\n",
       "      <td>S1F01JE0</td>\n",
       "      <td>0</td>\n",
       "      <td>0</td>\n",
       "      <td>0</td>\n",
       "      <td>410186</td>\n",
       "      <td>79694024</td>\n",
       "      <td>6</td>\n",
       "      <td>0</td>\n",
       "      <td>0</td>\n",
       "      <td>0</td>\n",
       "      <td>0</td>\n",
       "    </tr>\n",
       "    <tr>\n",
       "      <th>4</th>\n",
       "      <td>01/01/15</td>\n",
       "      <td>S1F01R2B</td>\n",
       "      <td>0</td>\n",
       "      <td>0</td>\n",
       "      <td>3</td>\n",
       "      <td>313173</td>\n",
       "      <td>135970480</td>\n",
       "      <td>15</td>\n",
       "      <td>0</td>\n",
       "      <td>0</td>\n",
       "      <td>0</td>\n",
       "      <td>0</td>\n",
       "    </tr>\n",
       "  </tbody>\n",
       "</table>\n",
       "</div>"
      ],
      "text/plain": [
       "       date consumer_id  transaction  feature1  feature2  feature3   feature4  \\\n",
       "0  01/01/15    S1F01085            0         0         7    407438  215630672   \n",
       "1  01/01/15    S1F0166B            0         3         0    403174   61370680   \n",
       "2  01/01/15    S1F01E6Y            0         0         0    237394  173295968   \n",
       "3  01/01/15    S1F01JE0            0         0         0    410186   79694024   \n",
       "4  01/01/15    S1F01R2B            0         0         3    313173  135970480   \n",
       "\n",
       "   feature5  feature6  feature7  feature8  feature9  \n",
       "0         6         0        52        56         0  \n",
       "1         6         0         0         0         0  \n",
       "2        12         0         0         0         0  \n",
       "3         6         0         0         0         0  \n",
       "4        15         0         0         0         0  "
      ]
     },
     "execution_count": 445,
     "metadata": {},
     "output_type": "execute_result"
    }
   ],
   "source": [
    "#read in the dataset and print the first five rows\n",
    "transact = pd.read_csv(\"Transaction DS.csv\")\n",
    "transact.head()"
   ]
  },
  {
   "cell_type": "code",
   "execution_count": 446,
   "metadata": {},
   "outputs": [
    {
     "data": {
      "text/html": [
       "<div>\n",
       "<style scoped>\n",
       "    .dataframe tbody tr th:only-of-type {\n",
       "        vertical-align: middle;\n",
       "    }\n",
       "\n",
       "    .dataframe tbody tr th {\n",
       "        vertical-align: top;\n",
       "    }\n",
       "\n",
       "    .dataframe thead th {\n",
       "        text-align: right;\n",
       "    }\n",
       "</style>\n",
       "<table border=\"1\" class=\"dataframe\">\n",
       "  <thead>\n",
       "    <tr style=\"text-align: right;\">\n",
       "      <th></th>\n",
       "      <th>date</th>\n",
       "      <th>consumer_id</th>\n",
       "      <th>transaction</th>\n",
       "      <th>feature1</th>\n",
       "      <th>feature2</th>\n",
       "      <th>feature3</th>\n",
       "      <th>feature4</th>\n",
       "      <th>feature5</th>\n",
       "      <th>feature6</th>\n",
       "      <th>feature7</th>\n",
       "      <th>feature8</th>\n",
       "      <th>feature9</th>\n",
       "    </tr>\n",
       "  </thead>\n",
       "  <tbody>\n",
       "    <tr>\n",
       "      <th>124489</th>\n",
       "      <td>11/02/15</td>\n",
       "      <td>Z1F0MA1S</td>\n",
       "      <td>0</td>\n",
       "      <td>0</td>\n",
       "      <td>0</td>\n",
       "      <td>353705</td>\n",
       "      <td>18310224</td>\n",
       "      <td>10</td>\n",
       "      <td>8</td>\n",
       "      <td>0</td>\n",
       "      <td>0</td>\n",
       "      <td>12</td>\n",
       "    </tr>\n",
       "    <tr>\n",
       "      <th>124490</th>\n",
       "      <td>11/02/15</td>\n",
       "      <td>Z1F0Q8RT</td>\n",
       "      <td>0</td>\n",
       "      <td>107</td>\n",
       "      <td>13</td>\n",
       "      <td>332792</td>\n",
       "      <td>172556680</td>\n",
       "      <td>11</td>\n",
       "      <td>0</td>\n",
       "      <td>4</td>\n",
       "      <td>96</td>\n",
       "      <td>0</td>\n",
       "    </tr>\n",
       "    <tr>\n",
       "      <th>124491</th>\n",
       "      <td>11/02/15</td>\n",
       "      <td>Z1F0QK05</td>\n",
       "      <td>0</td>\n",
       "      <td>0</td>\n",
       "      <td>0</td>\n",
       "      <td>350410</td>\n",
       "      <td>19029120</td>\n",
       "      <td>11</td>\n",
       "      <td>0</td>\n",
       "      <td>0</td>\n",
       "      <td>4832</td>\n",
       "      <td>0</td>\n",
       "    </tr>\n",
       "    <tr>\n",
       "      <th>124492</th>\n",
       "      <td>11/02/15</td>\n",
       "      <td>Z1F0QL3N</td>\n",
       "      <td>0</td>\n",
       "      <td>0</td>\n",
       "      <td>0</td>\n",
       "      <td>358980</td>\n",
       "      <td>226953408</td>\n",
       "      <td>12</td>\n",
       "      <td>0</td>\n",
       "      <td>0</td>\n",
       "      <td>0</td>\n",
       "      <td>0</td>\n",
       "    </tr>\n",
       "    <tr>\n",
       "      <th>124493</th>\n",
       "      <td>11/02/15</td>\n",
       "      <td>Z1F0QLC1</td>\n",
       "      <td>0</td>\n",
       "      <td>0</td>\n",
       "      <td>0</td>\n",
       "      <td>351431</td>\n",
       "      <td>17572840</td>\n",
       "      <td>10</td>\n",
       "      <td>0</td>\n",
       "      <td>0</td>\n",
       "      <td>0</td>\n",
       "      <td>0</td>\n",
       "    </tr>\n",
       "  </tbody>\n",
       "</table>\n",
       "</div>"
      ],
      "text/plain": [
       "            date consumer_id  transaction  feature1  feature2  feature3  \\\n",
       "124489  11/02/15    Z1F0MA1S            0         0         0    353705   \n",
       "124490  11/02/15    Z1F0Q8RT            0       107        13    332792   \n",
       "124491  11/02/15    Z1F0QK05            0         0         0    350410   \n",
       "124492  11/02/15    Z1F0QL3N            0         0         0    358980   \n",
       "124493  11/02/15    Z1F0QLC1            0         0         0    351431   \n",
       "\n",
       "         feature4  feature5  feature6  feature7  feature8  feature9  \n",
       "124489   18310224        10         8         0         0        12  \n",
       "124490  172556680        11         0         4        96         0  \n",
       "124491   19029120        11         0         0      4832         0  \n",
       "124492  226953408        12         0         0         0         0  \n",
       "124493   17572840        10         0         0         0         0  "
      ]
     },
     "execution_count": 446,
     "metadata": {},
     "output_type": "execute_result"
    }
   ],
   "source": [
    "#print the last five rows of the table\n",
    "transact.tail()"
   ]
  },
  {
   "cell_type": "markdown",
   "metadata": {},
   "source": [
    "The dataset contains 12 columns and 124,494 rows. The target variable is ‘transaction’ column, which is consumer transaction. Transaction is binary variable, where 0 is for consumers had not transaction on a given day, while 1 represents a consumer had transaction on a specific day.\n"
   ]
  },
  {
   "cell_type": "code",
   "execution_count": 447,
   "metadata": {},
   "outputs": [
    {
     "data": {
      "text/plain": [
       "(124494, 12)"
      ]
     },
     "execution_count": 447,
     "metadata": {},
     "output_type": "execute_result"
    }
   ],
   "source": [
    "#print the structure of the dataset\n",
    "np.shape(transact)"
   ]
  },
  {
   "cell_type": "markdown",
   "metadata": {},
   "source": [
    "As shown below, feature4 has highest mean value, which means it has much greater values that the rest of the columns. "
   ]
  },
  {
   "cell_type": "code",
   "execution_count": 448,
   "metadata": {},
   "outputs": [
    {
     "data": {
      "text/plain": [
       "<matplotlib.axes._subplots.AxesSubplot at 0x7f4017ad5bd0>"
      ]
     },
     "execution_count": 448,
     "metadata": {},
     "output_type": "execute_result"
    },
    {
     "data": {
      "image/png": "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\n",
      "text/plain": [
       "<Figure size 432x288 with 1 Axes>"
      ]
     },
     "metadata": {
      "needs_background": "light"
     },
     "output_type": "display_data"
    }
   ],
   "source": [
    "#Conver the data into a dataframe\n",
    "transact = pd.DataFrame(transact)\n",
    "#visualize the mean value of each column\n",
    "transact.mean().plot.bar(title=\"Average\")"
   ]
  },
  {
   "cell_type": "code",
   "execution_count": 449,
   "metadata": {},
   "outputs": [
    {
     "data": {
      "text/html": [
       "<div>\n",
       "<style scoped>\n",
       "    .dataframe tbody tr th:only-of-type {\n",
       "        vertical-align: middle;\n",
       "    }\n",
       "\n",
       "    .dataframe tbody tr th {\n",
       "        vertical-align: top;\n",
       "    }\n",
       "\n",
       "    .dataframe thead th {\n",
       "        text-align: right;\n",
       "    }\n",
       "</style>\n",
       "<table border=\"1\" class=\"dataframe\">\n",
       "  <thead>\n",
       "    <tr style=\"text-align: right;\">\n",
       "      <th></th>\n",
       "      <th>count</th>\n",
       "      <th>mean</th>\n",
       "      <th>std</th>\n",
       "      <th>min</th>\n",
       "      <th>25%</th>\n",
       "      <th>50%</th>\n",
       "      <th>75%</th>\n",
       "      <th>max</th>\n",
       "    </tr>\n",
       "  </thead>\n",
       "  <tbody>\n",
       "    <tr>\n",
       "      <th>transaction</th>\n",
       "      <td>124494.0</td>\n",
       "      <td>8.514467e-04</td>\n",
       "      <td>2.916725e-02</td>\n",
       "      <td>0.0</td>\n",
       "      <td>0.0</td>\n",
       "      <td>0.0</td>\n",
       "      <td>0.0</td>\n",
       "      <td>1.0</td>\n",
       "    </tr>\n",
       "    <tr>\n",
       "      <th>feature1</th>\n",
       "      <td>124494.0</td>\n",
       "      <td>9.940455e+00</td>\n",
       "      <td>1.857473e+02</td>\n",
       "      <td>0.0</td>\n",
       "      <td>0.0</td>\n",
       "      <td>0.0</td>\n",
       "      <td>0.0</td>\n",
       "      <td>24929.0</td>\n",
       "    </tr>\n",
       "    <tr>\n",
       "      <th>feature2</th>\n",
       "      <td>124494.0</td>\n",
       "      <td>1.245152e+01</td>\n",
       "      <td>1.914256e+02</td>\n",
       "      <td>0.0</td>\n",
       "      <td>0.0</td>\n",
       "      <td>0.0</td>\n",
       "      <td>0.0</td>\n",
       "      <td>18701.0</td>\n",
       "    </tr>\n",
       "    <tr>\n",
       "      <th>feature3</th>\n",
       "      <td>124494.0</td>\n",
       "      <td>2.601729e+05</td>\n",
       "      <td>9.915101e+04</td>\n",
       "      <td>8.0</td>\n",
       "      <td>221452.0</td>\n",
       "      <td>249799.5</td>\n",
       "      <td>310266.0</td>\n",
       "      <td>689161.0</td>\n",
       "    </tr>\n",
       "    <tr>\n",
       "      <th>feature4</th>\n",
       "      <td>124494.0</td>\n",
       "      <td>1.223868e+08</td>\n",
       "      <td>7.045960e+07</td>\n",
       "      <td>0.0</td>\n",
       "      <td>61276754.0</td>\n",
       "      <td>122795744.0</td>\n",
       "      <td>183308370.0</td>\n",
       "      <td>244140480.0</td>\n",
       "    </tr>\n",
       "    <tr>\n",
       "      <th>feature5</th>\n",
       "      <td>124494.0</td>\n",
       "      <td>1.422269e+01</td>\n",
       "      <td>1.594302e+01</td>\n",
       "      <td>1.0</td>\n",
       "      <td>8.0</td>\n",
       "      <td>10.0</td>\n",
       "      <td>12.0</td>\n",
       "      <td>98.0</td>\n",
       "    </tr>\n",
       "    <tr>\n",
       "      <th>feature6</th>\n",
       "      <td>124494.0</td>\n",
       "      <td>2.925282e-01</td>\n",
       "      <td>7.436924e+00</td>\n",
       "      <td>0.0</td>\n",
       "      <td>0.0</td>\n",
       "      <td>0.0</td>\n",
       "      <td>0.0</td>\n",
       "      <td>832.0</td>\n",
       "    </tr>\n",
       "    <tr>\n",
       "      <th>feature7</th>\n",
       "      <td>124494.0</td>\n",
       "      <td>1.741120e+00</td>\n",
       "      <td>2.290851e+01</td>\n",
       "      <td>0.0</td>\n",
       "      <td>0.0</td>\n",
       "      <td>0.0</td>\n",
       "      <td>0.0</td>\n",
       "      <td>1666.0</td>\n",
       "    </tr>\n",
       "    <tr>\n",
       "      <th>feature8</th>\n",
       "      <td>124494.0</td>\n",
       "      <td>1.594848e+02</td>\n",
       "      <td>2.179658e+03</td>\n",
       "      <td>0.0</td>\n",
       "      <td>0.0</td>\n",
       "      <td>0.0</td>\n",
       "      <td>0.0</td>\n",
       "      <td>64968.0</td>\n",
       "    </tr>\n",
       "    <tr>\n",
       "      <th>feature9</th>\n",
       "      <td>124494.0</td>\n",
       "      <td>4.387922e-01</td>\n",
       "      <td>1.115539e+01</td>\n",
       "      <td>0.0</td>\n",
       "      <td>0.0</td>\n",
       "      <td>0.0</td>\n",
       "      <td>0.0</td>\n",
       "      <td>1248.0</td>\n",
       "    </tr>\n",
       "  </tbody>\n",
       "</table>\n",
       "</div>"
      ],
      "text/plain": [
       "                count          mean           std  min         25%  \\\n",
       "transaction  124494.0  8.514467e-04  2.916725e-02  0.0         0.0   \n",
       "feature1     124494.0  9.940455e+00  1.857473e+02  0.0         0.0   \n",
       "feature2     124494.0  1.245152e+01  1.914256e+02  0.0         0.0   \n",
       "feature3     124494.0  2.601729e+05  9.915101e+04  8.0    221452.0   \n",
       "feature4     124494.0  1.223868e+08  7.045960e+07  0.0  61276754.0   \n",
       "feature5     124494.0  1.422269e+01  1.594302e+01  1.0         8.0   \n",
       "feature6     124494.0  2.925282e-01  7.436924e+00  0.0         0.0   \n",
       "feature7     124494.0  1.741120e+00  2.290851e+01  0.0         0.0   \n",
       "feature8     124494.0  1.594848e+02  2.179658e+03  0.0         0.0   \n",
       "feature9     124494.0  4.387922e-01  1.115539e+01  0.0         0.0   \n",
       "\n",
       "                     50%          75%          max  \n",
       "transaction          0.0          0.0          1.0  \n",
       "feature1             0.0          0.0      24929.0  \n",
       "feature2             0.0          0.0      18701.0  \n",
       "feature3        249799.5     310266.0     689161.0  \n",
       "feature4     122795744.0  183308370.0  244140480.0  \n",
       "feature5            10.0         12.0         98.0  \n",
       "feature6             0.0          0.0        832.0  \n",
       "feature7             0.0          0.0       1666.0  \n",
       "feature8             0.0          0.0      64968.0  \n",
       "feature9             0.0          0.0       1248.0  "
      ]
     },
     "execution_count": 449,
     "metadata": {},
     "output_type": "execute_result"
    }
   ],
   "source": [
    "#print the statistical value of each feature\n",
    "transact.describe().T"
   ]
  },
  {
   "cell_type": "markdown",
   "metadata": {},
   "source": [
    "Furthermore, there are no missing values in the table, implying that there are no empty rows in the data. All columns/features, with the exception of transaction and date columns, contain both continuous and discrete (countable) values."
   ]
  },
  {
   "cell_type": "code",
   "execution_count": 450,
   "metadata": {},
   "outputs": [
    {
     "data": {
      "text/plain": [
       "date           0\n",
       "consumer_id    0\n",
       "transaction    0\n",
       "feature1       0\n",
       "feature2       0\n",
       "feature3       0\n",
       "feature4       0\n",
       "feature5       0\n",
       "feature6       0\n",
       "feature7       0\n",
       "feature8       0\n",
       "feature9       0\n",
       "dtype: int64"
      ]
     },
     "execution_count": 450,
     "metadata": {},
     "output_type": "execute_result"
    }
   ],
   "source": [
    "#Check the number of null values in the dataframe\n",
    "transact.isnull().sum()"
   ]
  },
  {
   "cell_type": "markdown",
   "metadata": {},
   "source": [
    " The transaction column is unbalanced, which implies that one type of class has more values than the other. transaction: 124388 observations are assigned to 0 and only 106 are assigned to 1. "
   ]
  },
  {
   "cell_type": "code",
   "execution_count": 451,
   "metadata": {},
   "outputs": [
    {
     "data": {
      "text/plain": [
       "0    124388\n",
       "1       106\n",
       "Name: transaction, dtype: int64"
      ]
     },
     "execution_count": 451,
     "metadata": {},
     "output_type": "execute_result"
    }
   ],
   "source": [
    "#Check the number of data points in each class\n",
    "transact['transaction'].value_counts()"
   ]
  },
  {
   "cell_type": "markdown",
   "metadata": {},
   "source": [
    "To put it another way, 17 out of every 20000 transactions are completed (0.00085 transaction probability)."
   ]
  },
  {
   "cell_type": "code",
   "execution_count": 452,
   "metadata": {},
   "outputs": [
    {
     "data": {
      "text/plain": [
       "0.000851446656063746"
      ]
     },
     "execution_count": 452,
     "metadata": {},
     "output_type": "execute_result"
    }
   ],
   "source": [
    "#check the prevalence of transaction column\n",
    "def prevalence_calc(col):\n",
    "    return (sum(col)/len(col))\n",
    "\n",
    "prevalence_calc((transact['transaction']==1).astype('int'))\n",
    "\n",
    "# 17/20000 17 in 20000 will complete the trasaction"
   ]
  },
  {
   "cell_type": "markdown",
   "metadata": {},
   "source": [
    "# Features and preprocessing\n",
    "I have initially focused on date column: which is in a string format rather than a date format. Preprocessing this column is essential for extracting and utilizing its components. I have chosen to use Python’s panda module (to_datetime) to transform the column into date format. After converting the format, I extracted the month, week, day of the month, and day of the week."
   ]
  },
  {
   "cell_type": "code",
   "execution_count": 453,
   "metadata": {},
   "outputs": [
    {
     "data": {
      "text/plain": [
       "0    01/01/15\n",
       "1    01/01/15\n",
       "2    01/01/15\n",
       "3    01/01/15\n",
       "4    01/01/15\n",
       "Name: date, dtype: object"
      ]
     },
     "execution_count": 453,
     "metadata": {},
     "output_type": "execute_result"
    }
   ],
   "source": [
    "#First five rows of the date column\n",
    "transact['date'].head()"
   ]
  },
  {
   "cell_type": "code",
   "execution_count": 454,
   "metadata": {},
   "outputs": [],
   "source": [
    "#Convert the data type of date column from object into a date format \n",
    "transact['date'] = pd.to_datetime(transact['date'])"
   ]
  },
  {
   "cell_type": "code",
   "execution_count": 455,
   "metadata": {},
   "outputs": [
    {
     "data": {
      "text/plain": [
       "0   2015-01-01\n",
       "1   2015-01-01\n",
       "2   2015-01-01\n",
       "3   2015-01-01\n",
       "4   2015-01-01\n",
       "Name: date, dtype: datetime64[ns]"
      ]
     },
     "execution_count": 455,
     "metadata": {},
     "output_type": "execute_result"
    }
   ],
   "source": [
    "#First five rows of the date column\n",
    "transact['date'].head()"
   ]
  },
  {
   "cell_type": "code",
   "execution_count": 456,
   "metadata": {},
   "outputs": [],
   "source": [
    "#Extract Year, Month and day from date column\n",
    "transact['month'] = transact['date'].dt.month\n",
    "transact['day'] = transact['date'].dt.day\n",
    "transact['week'] = transact['date'].dt.week\n",
    "transact['day_of_week'] = transact['date'].dt.dayofweek"
   ]
  },
  {
   "cell_type": "code",
   "execution_count": 457,
   "metadata": {},
   "outputs": [
    {
     "data": {
      "text/plain": [
       "month\n",
       "1     25032\n",
       "2     19500\n",
       "3     19833\n",
       "4     12012\n",
       "5     11330\n",
       "6     10469\n",
       "7     10531\n",
       "8      8346\n",
       "9      4470\n",
       "10     2940\n",
       "11       31\n",
       "dtype: int64"
      ]
     },
     "execution_count": 457,
     "metadata": {},
     "output_type": "execute_result"
    }
   ],
   "source": [
    "#explore the dataset by month\n",
    "transact.groupby('month').size()"
   ]
  },
  {
   "cell_type": "code",
   "execution_count": 458,
   "metadata": {},
   "outputs": [
    {
     "data": {
      "text/plain": [
       "day\n",
       "1     4742\n",
       "2     4742\n",
       "3     4677\n",
       "4     4705\n",
       "5     4706\n",
       "6     4641\n",
       "7     4345\n",
       "8     4263\n",
       "9     4263\n",
       "10    4262\n",
       "11    4261\n",
       "12    4217\n",
       "13    4154\n",
       "14    4110\n",
       "15    4076\n",
       "16    4076\n",
       "17    4033\n",
       "18    3989\n",
       "19    3981\n",
       "20    3939\n",
       "21    3894\n",
       "22    3893\n",
       "23    3850\n",
       "24    3812\n",
       "25    3806\n",
       "26    3728\n",
       "27    3726\n",
       "28    3622\n",
       "29    2948\n",
       "30    2945\n",
       "31    2088\n",
       "dtype: int64"
      ]
     },
     "execution_count": 458,
     "metadata": {},
     "output_type": "execute_result"
    }
   ],
   "source": [
    "#explore the dataset by day\n",
    "transact.groupby('day').size()"
   ]
  },
  {
   "cell_type": "code",
   "execution_count": 459,
   "metadata": {},
   "outputs": [
    {
     "data": {
      "text/plain": [
       "week\n",
       "1     4651\n",
       "2     6035\n",
       "3     5085\n",
       "4     4986\n",
       "5     4987\n",
       "6     4983\n",
       "7     4983\n",
       "8     4789\n",
       "9     4705\n",
       "10    4715\n",
       "11    4732\n",
       "12    4720\n",
       "13    4024\n",
       "14    3395\n",
       "15    2942\n",
       "16    2695\n",
       "17    2514\n",
       "18    2513\n",
       "19    2740\n",
       "20    2569\n",
       "21    2500\n",
       "22    2444\n",
       "23    2444\n",
       "24    2457\n",
       "25    2440\n",
       "26    2434\n",
       "27    2424\n",
       "28    2411\n",
       "29    2375\n",
       "30    2349\n",
       "31    2328\n",
       "32    2300\n",
       "33    2091\n",
       "34    1680\n",
       "35    1433\n",
       "36    1062\n",
       "37    1038\n",
       "38    1050\n",
       "39    1050\n",
       "40    1034\n",
       "41     990\n",
       "42     798\n",
       "43     412\n",
       "44     156\n",
       "45      31\n",
       "dtype: int64"
      ]
     },
     "execution_count": 459,
     "metadata": {},
     "output_type": "execute_result"
    }
   ],
   "source": [
    "#explore the dataset by year\n",
    "transact.groupby('week').size()"
   ]
  },
  {
   "cell_type": "code",
   "execution_count": 460,
   "metadata": {},
   "outputs": [
    {
     "data": {
      "text/plain": [
       "day_of_week\n",
       "0    17886\n",
       "1    17534\n",
       "2    17136\n",
       "3    18141\n",
       "4    18041\n",
       "5    17897\n",
       "6    17859\n",
       "dtype: int64"
      ]
     },
     "execution_count": 460,
     "metadata": {},
     "output_type": "execute_result"
    }
   ],
   "source": [
    "#explore the dataset by day of week\n",
    "transact.groupby('day_of_week').size()"
   ]
  },
  {
   "cell_type": "markdown",
   "metadata": {},
   "source": [
    "The outputs below show the prevalence of transaction by month, weekday, and day of month. The number of purchases increases from Monday to Thursday, then falls all the way to Sunday in the day of week column, where 1 is Monday and 6 is Sunday. The buy rate grows as we reach the middle of the year and falls as we approach the end of the year, with a nearly zero rate on the eleventh month. On the other side, on the first and mid of the month, there is no buy rate. \n",
    "\n",
    "The prediction model will not contain year. This is because the year will not repeat itself in the future, thereby disrupting the prediction's performance. Similarly, consumerID will not give much predictive information, therefore the date and customer Id columns have been removed."
   ]
  },
  {
   "cell_type": "code",
   "execution_count": 461,
   "metadata": {},
   "outputs": [
    {
     "name": "stdout",
     "output_type": "stream",
     "text": [
      "day_of_week\n",
      "0    0.001510\n",
      "1    0.001027\n",
      "2    0.000875\n",
      "3    0.001213\n",
      "4    0.000665\n",
      "5    0.000447\n",
      "6    0.000224\n",
      "dtype: float64\n",
      "month\n",
      "1     0.000959\n",
      "2     0.000718\n",
      "3     0.000454\n",
      "4     0.000749\n",
      "5     0.001853\n",
      "6     0.000573\n",
      "7     0.001519\n",
      "8     0.000479\n",
      "9     0.000000\n",
      "10    0.001020\n",
      "11    0.000000\n",
      "dtype: float64\n",
      "day\n",
      "1     0.000000\n",
      "2     0.000422\n",
      "3     0.000641\n",
      "4     0.001275\n",
      "5     0.001275\n",
      "6     0.000215\n",
      "7     0.000690\n",
      "8     0.000938\n",
      "9     0.002111\n",
      "10    0.000235\n",
      "11    0.000469\n",
      "12    0.000711\n",
      "13    0.000963\n",
      "14    0.000973\n",
      "15    0.000000\n",
      "16    0.000000\n",
      "17    0.000992\n",
      "18    0.001755\n",
      "19    0.003014\n",
      "20    0.001523\n",
      "21    0.001027\n",
      "22    0.000257\n",
      "23    0.001039\n",
      "24    0.000525\n",
      "25    0.000263\n",
      "26    0.000805\n",
      "27    0.000805\n",
      "28    0.001380\n",
      "29    0.000678\n",
      "30    0.001019\n",
      "31    0.000479\n",
      "dtype: float64\n"
     ]
    }
   ],
   "source": [
    "#day of the week,day of month and month predictive analysis\n",
    "print(transact.groupby('day_of_week').apply(lambda g: prevalence_calc((g.transaction==1))))\n",
    "print(transact.groupby('month').apply(lambda g: prevalence_calc((g.transaction==1))))\n",
    "print(transact.groupby('day').apply(lambda g: prevalence_calc((g.transaction==1))))"
   ]
  },
  {
   "cell_type": "markdown",
   "metadata": {},
   "source": [
    "I discovered a high correlation between feature6 and feature9, as well as week and month, in the correlation graph below, on the left pane. Intercorrelation is a term that refers to a strong correlation between predictive variables. Intercorrelated variables do not provide any new information, thus this must be addressed. As a result, one of these features must be eliminated."
   ]
  },
  {
   "cell_type": "code",
   "execution_count": 462,
   "metadata": {},
   "outputs": [
    {
     "data": {
      "text/plain": [
       "<matplotlib.axes._subplots.AxesSubplot at 0x7f4018c5af90>"
      ]
     },
     "execution_count": 462,
     "metadata": {},
     "output_type": "execute_result"
    },
    {
     "data": {
      "image/png": "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\n",
      "text/plain": [
       "<Figure size 720x360 with 2 Axes>"
      ]
     },
     "metadata": {
      "needs_background": "light"
     },
     "output_type": "display_data"
    }
   ],
   "source": [
    "#visualize the features correlation heatmap\n",
    "plt.figure(figsize=(10,5))\n",
    "sns.heatmap(transact.corr(),cbar=True,fmt =' .2f', annot=True, cmap='coolwarm')"
   ]
  },
  {
   "cell_type": "markdown",
   "metadata": {},
   "source": [
    " I deleted week and feature6 from the data where the correlation coefficient is more than the 0.7 cutoff value."
   ]
  },
  {
   "cell_type": "code",
   "execution_count": 463,
   "metadata": {},
   "outputs": [
    {
     "data": {
      "text/plain": [
       "<matplotlib.axes._subplots.AxesSubplot at 0x7f4013d81b50>"
      ]
     },
     "execution_count": 463,
     "metadata": {},
     "output_type": "execute_result"
    },
    {
     "data": {
      "image/png": "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\n",
      "text/plain": [
       "<Figure size 720x360 with 2 Axes>"
      ]
     },
     "metadata": {
      "needs_background": "light"
     },
     "output_type": "display_data"
    }
   ],
   "source": [
    "#drop highly correlated columns and plot the heatmap again\n",
    "transact = transact.drop(['week','feature6'],axis=1)\n",
    "plt.figure(figsize=(10,5))\n",
    "sns.heatmap(transact.corr(),cbar=True,fmt =' .2f', annot=True, cmap='coolwarm')"
   ]
  },
  {
   "cell_type": "code",
   "execution_count": 464,
   "metadata": {},
   "outputs": [],
   "source": [
    "# remove date and consumer_id and assign predictor and independent variables\n",
    "transact_cleaned = transact.drop(['date','consumer_id'],axis=1) \n",
    "y = transact_cleaned.transaction.values\n",
    "x = transact_cleaned.drop(['transaction'],axis=1)"
   ]
  },
  {
   "cell_type": "markdown",
   "metadata": {},
   "source": [
    "# Models \n",
    "I reserved 30% of my data for testing and utilized the remaining 70% to train."
   ]
  },
  {
   "cell_type": "markdown",
   "metadata": {},
   "source": [
    "As a baseline model, I have used a random forest model to predict transaction. Random Forest is a powerful machine learning algorithm that can be used to a wide range of problems, including regression and classification. It's an ensemble approach, which means a random forest model is made up of a number of decision trees called estimators, each of which makes its own predictions. To create a more accurate forecast, the random forest model integrates the estimators' predictions. The baseline model on undersampled dataset yielded a prediction accuracy of 80.1%, along with 81% of F1 score and 0.91% of AUC."
   ]
  },
  {
   "cell_type": "code",
   "execution_count": 465,
   "metadata": {},
   "outputs": [
    {
     "name": "stdout",
     "output_type": "stream",
     "text": [
      "Original dataset shape Counter({0: 124388, 1: 106})\n",
      "Resample training dataset shape Counter({0: 72, 1: 72})\n",
      "Resample test dataset shape Counter({0: 34, 1: 34})\n",
      "Predicted Classes:  [0 1]\n",
      "0.8235294117647058\n",
      "Area Under ROC:  0.9126297577854671\n",
      "[[29  5]\n",
      " [ 7 27]]\n",
      "F1 Score:  0.8181818181818182\n"
     ]
    }
   ],
   "source": [
    "#fit random forest on undersampled dataset\n",
    "X_train, X_test, y_train, y_test = train_test_split(x, y, test_size = 0.30, random_state=101)\n",
    "\n",
    "ros = RandomOverSampler(random_state= 299)\n",
    "rus = RandomUnderSampler(random_state = 574)\n",
    "\n",
    "# fit predictor and target varaible\n",
    "x_ros, y_ros = rus.fit_resample(X_train, y_train)\n",
    "x_rus_test, y_rus_test = rus.fit_resample(X_test, y_test)\n",
    "\n",
    "\n",
    "print('Original dataset shape', collections.Counter(y))\n",
    "print('Resample training dataset shape', collections.Counter(y_ros))\n",
    "print('Resample test dataset shape', collections.Counter(y_rus_test))\n",
    "\n",
    "# Train model\n",
    "clf_4 = RandomForestClassifier(random_state = 875)\n",
    "clf_4.fit(x_ros, y_ros)\n",
    " \n",
    "# Predict on training set\n",
    "pred_y_4 = clf_4.predict(x_rus_test)\n",
    " \n",
    "# Is our model still predicting just one class?\n",
    "print(\"Predicted Classes: \",np.unique(pred_y_4))\n",
    "# [0 1]\n",
    " \n",
    "# How's our accuracy?\n",
    "print(accuracy_score(y_rus_test, pred_y_4))\n",
    " \n",
    "# What about AUROC?\n",
    "prob_y_4 = clf_4.predict_proba(x_rus_test)\n",
    "prob_y_4 = [p[1] for p in prob_y_4]\n",
    "print(\"Area Under ROC: \",roc_auc_score(y_rus_test, prob_y_4))\n",
    "print(confusion_matrix(y_rus_test, pred_y_4))\n",
    "print(\"F1 Score: \",f1_score(y_rus_test, pred_y_4))"
   ]
  },
  {
   "cell_type": "markdown",
   "metadata": {},
   "source": [
    "As previously indicated in the dataset section, feature4 has a larger scale than the other features. Data scaling is the process of changing the range of the data. I have used MinMax scaling method to change the range of the values. That is, all data points will be equally valuble to the the prediction of the dependent variable (transaction). Then once the data is scaled, random forest was fitted on undersampled dataset. The prediction accuracy was not improved much, in fact, it produced lower f1 score and AUC."
   ]
  },
  {
   "cell_type": "code",
   "execution_count": 466,
   "metadata": {},
   "outputs": [
    {
     "name": "stdout",
     "output_type": "stream",
     "text": [
      "Original dataset shape Counter({0: 124388, 1: 106})\n",
      "Resample training dataset shape Counter({0: 72, 1: 72})\n",
      "Resample test dataset shape Counter({0: 34, 1: 34})\n",
      "Predicted Classes:  [0 1]\n",
      "0.8235294117647058\n",
      "Area Under ROC:  0.8758650519031143\n",
      "[[30  4]\n",
      " [ 8 26]]\n",
      "F1 Score:  0.8125\n"
     ]
    }
   ],
   "source": [
    "#scale the data using MinMax method\n",
    "X_train_norm, X_test_norm, y_train_norm, y_test_norm = train_test_split(x, y, test_size=0.30, random_state=101)\n",
    "\n",
    "# fit scaler on training data\n",
    "norm = MinMaxScaler()\n",
    "# transform training data\n",
    "X_norm = norm.fit_transform(X_train_norm)\n",
    "\n",
    "ros = RandomOverSampler(random_state= 299)\n",
    "rus = RandomUnderSampler(random_state = 574)\n",
    "\n",
    "# fit predictor and target varaible\n",
    "x_rus, y_rus = rus.fit_resample(X_norm, y_train_norm)\n",
    "x_rus_test, y_rus_test = rus.fit_resample(X_test_norm, y_test_norm)\n",
    "\n",
    "\n",
    "print('Original dataset shape', collections.Counter(y))\n",
    "print('Resample training dataset shape', collections.Counter(y_ros))\n",
    "print('Resample test dataset shape', collections.Counter(y_rus_test))\n",
    "\n",
    "# Train model\n",
    "clf_4 = RandomForestClassifier(random_state = 875)\n",
    "clf_4.fit(x_rus, y_rus)\n",
    " \n",
    "# Predict on training set\n",
    "pred_y_4 = clf_4.predict(x_rus_test)\n",
    " \n",
    "# Is our model still predicting just one class?\n",
    "print(\"Predicted Classes: \",np.unique(pred_y_4))\n",
    "# [0 1]\n",
    " \n",
    "# How's our accuracy?\n",
    "print(accuracy_score(y_rus_test, pred_y_4))\n",
    " \n",
    "# What about AUROC?\n",
    "prob_y_4 = clf_4.predict_proba(x_rus_test)\n",
    "prob_y_4 = [p[1] for p in prob_y_4]\n",
    "print(\"Area Under ROC: \",roc_auc_score(y_rus_test, prob_y_4))\n",
    "print(confusion_matrix(y_rus_test, pred_y_4))\n",
    "print(\"F1 Score: \",f1_score(y_rus_test, pred_y_4))"
   ]
  },
  {
   "cell_type": "markdown",
   "metadata": {},
   "source": [
    "Next step is now to tweak the hyperparameters of the model. Random forest has several hyperparameters to tune and setting them manually would be exhaustive job. Instead, I have used grid search method to find the optimized combinations of the hyperparamters. This could be exahsutive and computationaly expensive since it will have several number of combinations. However, this could be an efecient way of optaining best model."
   ]
  },
  {
   "cell_type": "markdown",
   "metadata": {},
   "source": [
    "After tweaking the hyperparameters using grid search hyperparameter tunning method, I have obtained a prediction accuracy of 85%, along with 87% of AUC and 85% of F1 score. "
   ]
  },
  {
   "cell_type": "code",
   "execution_count": 472,
   "metadata": {},
   "outputs": [
    {
     "name": "stdout",
     "output_type": "stream",
     "text": [
      "Predicted Classes:  [0 1]\n",
      "0.8529411764705882\n",
      "[[30  4]\n",
      " [ 6 28]]\n",
      "Area Under ROC:  0.8758650519031143\n",
      "F1 Score:  0.8484848484848485\n"
     ]
    }
   ],
   "source": [
    "#fit random forest on undersampled dataset with gridsearch to find optimized combination of hyperparameter\n",
    "X_train, X_test, y_train, y_test = train_test_split(x, y, test_size = 0.30, random_state=101)\n",
    "\n",
    "ros = RandomOverSampler(random_state= 299)\n",
    "rus = RandomUnderSampler(random_state = 574)\n",
    "\n",
    "grid_param = {\n",
    "    'n_estimators': [100, 300, 500, 800, 1000,1500,2000],\n",
    "    'criterion': ['gini', 'entropy'],\n",
    "    'bootstrap': [True, False]\n",
    "}\n",
    "\n",
    "# fit predictor and target varaible\n",
    "x_rus, y_rus = rus.fit_resample(X_train, y_train)\n",
    "x_rus_test, y_rus_test = rus.fit_resample(X_test, y_test)\n",
    "# Use the random grid to search for best hyperparameters\n",
    "forest = RandomForestClassifier(random_state = 875)\n",
    "\n",
    "gd_sr = GridSearchCV(estimator = forest,\n",
    "                     param_grid= grid_param,\n",
    "                     scoring = 'accuracy',\n",
    "                     cv=5,\n",
    "                     n_jobs=-1)\n",
    "gd_sr.fit(x_rus, y_rus)\n",
    "\n",
    "x_rus_test, y_rus_test = rus.fit_resample(X_test, y_test)\n",
    "\n",
    "# Predict on training set\n",
    "pred_y_4 = gd_sr.predict(x_rus_test)\n",
    " \n",
    "# Is our model still predicting just one class?\n",
    "print(\"Predicted Classes: \",np.unique(pred_y_4))\n",
    "# [0 1]\n",
    " \n",
    "# How's our accuracy?\n",
    "print(accuracy_score(y_rus_test, pred_y_4))\n",
    " \n",
    "# What about AUROC?\n",
    "print(confusion_matrix(y_rus_test, pred_y_4))\n",
    "prob_y_4 = clf_4.predict_proba(x_rus_test)\n",
    "prob_y_4 = [p[1] for p in prob_y_4]\n",
    "print(\"Area Under ROC: \",roc_auc_score(y_rus_test, prob_y_4))\n",
    "print(\"F1 Score: \",f1_score(y_rus_test, pred_y_4))"
   ]
  },
  {
   "cell_type": "markdown",
   "metadata": {},
   "source": [
The hyperparameter tuning improved accuracy, but this could also be improved through multiple iterations and more hyperparameter values. Due to the longer computation time, I would leave it as is for now and I will come back to it when I have a powerful machine.   ]
  }
 ],
 "metadata": {
  "instance_type": "ml.t3.medium",
  "kernelspec": {
   "display_name": "Python 3 (Data Science)",
   "language": "python",
   "name": "python3__SAGEMAKER_INTERNAL__arn:aws:sagemaker:ap-southeast-2:452832661640:image/datascience-1.0"
  },
  "language_info": {
   "codemirror_mode": {
    "name": "ipython",
    "version": 3
   },
   "file_extension": ".py",
   "mimetype": "text/x-python",
   "name": "python",
   "nbconvert_exporter": "python",
   "pygments_lexer": "ipython3",
   "version": "3.7.10"
  }
 },
 "nbformat": 4,
 "nbformat_minor": 4
}
